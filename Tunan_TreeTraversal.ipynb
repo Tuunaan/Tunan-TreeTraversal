{
  "nbformat": 4,
  "nbformat_minor": 0,
  "metadata": {
    "colab": {
      "provenance": []
    },
    "kernelspec": {
      "name": "python3",
      "display_name": "Python 3"
    },
    "language_info": {
      "name": "python"
    }
  },
  "cells": [
    {
      "cell_type": "code",
      "source": [
        "class Node():\n",
        "  def __init__(self, elem):\n",
        "      self.elem = elem\n",
        "      self.children = 1\n",
        "      root = Node(1)\n",
        "      root. children += [Node(2)]\n",
        "      root.children += [Node(3)]\n",
        "      root.children += [Node(4)]\n",
        "      root.children[0].children += [Node (5)]\n",
        "      root. children[0].children +=[Node(6)]\n",
        "      root.children[1].children += [Node(7)]\n"
      ],
      "metadata": {
        "id": "ln_obtNxeaHS"
      },
      "execution_count": 34,
      "outputs": []
    },
    {
      "cell_type": "code",
      "source": [
        "#Binary Tree from Array\n",
        "class Node():\n",
        "  def __init__ (self, elem) :\n",
        "    self.elem = elem\n",
        "    self.left = self.right = None\n",
        "def tree_construction(arr, i, n):\n",
        "  root = None\n",
        "  if i < n:\n",
        "    if (arr[i]!=None):\n",
        "      root=Node(arr[i])\n",
        "      root.left = tree_construction(arr, 2 * i, n) # insert left child\n",
        "      root.right = tree_construction(arr, 2 * i + 1, n) # insert right child\n",
        "  return root\n",
        "def print_inorder (root): # function to print tree nodes in Inorder fashion\n",
        "  if root != None:\n",
        "    print_inorder(root.left)\n",
        "    print(root.elem, end=\" \")\n",
        "    print_inorder(root.right)\n",
        "array_rep = [None,\"A\",\"B\",\"C\",\"D\",\"E\",\"F\",\"G\",\"H\", None,None,None,\"I\", \"j\", None, \"K\"]\n",
        "root= tree_construction(array_rep, 1, len(array_rep))\n",
        "print_inorder(root)\n",
        "#Array from Binary Tree\n",
        "array_rep = [None] * 16 # Root height is 3, so total length=(3+1)**2\n",
        "def array_construction(n,i):\n",
        "  if n==None:\n",
        "    return None\n",
        "  else:\n",
        "    array_rep[i]= n.elem\n",
        "    array_construction(n.left, 2*i)\n",
        "    array_construction(n.right, 2*i+1)\n",
        "array_construction(root, 1)\n",
        "print(array_rep)\n",
        "\n"
      ],
      "metadata": {
        "colab": {
          "base_uri": "https://localhost:8080/"
        },
        "id": "AWD-FKdgeclN",
        "outputId": "79f7c457-0491-44ce-e7ac-2fb4d17ea496"
      },
      "execution_count": 35,
      "outputs": [
        {
          "output_type": "stream",
          "name": "stdout",
          "text": [
            "H D B E A I F j C G K [None, 'A', 'B', 'C', 'D', 'E', 'F', 'G', 'H', None, None, None, 'I', 'j', None, 'K']\n"
          ]
        }
      ]
    },
    {
      "cell_type": "code",
      "source": [
        "def get_level(node, node_level, elem):\n",
        "  if (node == None):\n",
        "    return 0\n",
        "  if (node. elem == elem):\n",
        "    return node_level\n",
        "  downlevel = get_level(node.left, node_level + 1, elem)\n",
        "  if (downlevel != 0):\n",
        "    return downlevel\n",
        "  downlevel = get_level(node.right, node_level + 1, elem)\n",
        "  return downlevel\n",
        "print (get_level (root, 0, 4))\n",
        "\n"
      ],
      "metadata": {
        "colab": {
          "base_uri": "https://localhost:8080/"
        },
        "id": "Qsrdcur-edI1",
        "outputId": "6f0d117c-28c3-45a8-db66-ec9aa4185d91"
      },
      "execution_count": 36,
      "outputs": [
        {
          "output_type": "stream",
          "name": "stdout",
          "text": [
            "0\n"
          ]
        }
      ]
    },
    {
      "cell_type": "code",
      "source": [
        "# Count the number of nodes\n",
        "def count_nodes(root):\n",
        "  if root is None:\n",
        "    return 0\n",
        "  return (1 + count_nodes (root.left) + count_nodes (root.right))\n",
        "print(count_nodes(root))\n"
      ],
      "metadata": {
        "colab": {
          "base_uri": "https://localhost:8080/"
        },
        "id": "y_XcDKQked-2",
        "outputId": "64d2e0c2-fbc2-497a-fc0c-0cdb82d431ff"
      },
      "execution_count": 37,
      "outputs": [
        {
          "output_type": "stream",
          "name": "stdout",
          "text": [
            "11\n"
          ]
        }
      ]
    },
    {
      "cell_type": "code",
      "source": [
        "def calculateDepth (node) :\n",
        "  d=0\n",
        "  while (node is not None):\n",
        "    d += 1\n",
        "    node= node. left\n",
        "  return d\n",
        "print(calculateDepth (root))\n",
        "\n"
      ],
      "metadata": {
        "colab": {
          "base_uri": "https://localhost:8080/"
        },
        "id": "aLrVGNpied7-",
        "outputId": "47906fe4-91db-418d-ce0f-1f967e22b528"
      },
      "execution_count": 38,
      "outputs": [
        {
          "output_type": "stream",
          "name": "stdout",
          "text": [
            "4\n"
          ]
        }
      ]
    },
    {
      "cell_type": "code",
      "source": [
        "# Check if the tree is a complete binary tree\n",
        "def is_complete (root, index, numberNodes):\n",
        "  if root is None: # Check if the tree is empty\n",
        "    return True\n",
        "  if index >= numberNodes:\n",
        "    return False\n",
        "  return (is_complete(root.left, 2 * index + 1, numberNodes) and is_complete(root.right, 2* index + 2, numberNodes))\n",
        "\n",
        "if is_complete(root, 0, count_nodes (root)):\n",
        "  print(\"Complete binary tree\")\n",
        "else:\n",
        "  print (\"Not a complete binary tree\")\n"
      ],
      "metadata": {
        "colab": {
          "base_uri": "https://localhost:8080/"
        },
        "id": "m8ZB1Dqced5A",
        "outputId": "55bbfe76-eeb3-4a90-91cb-9d7e2f75ffb1"
      },
      "execution_count": 39,
      "outputs": [
        {
          "output_type": "stream",
          "name": "stdout",
          "text": [
            "Not a complete binary tree\n"
          ]
        }
      ]
    },
    {
      "cell_type": "code",
      "source": [
        "# Check if the tree is a full binary tree\n",
        "def isFullTree(root):\n",
        "  if root is None: # Tree empty case\n",
        "    return True\n",
        "  if root. left is None and root.right is None:\n",
        "    return True\n",
        "  if root. left is not None and root.right is not None:\n",
        "    return (isFullTree(root.left) and isFullTree(root.right))\n",
        "  return False\n",
        "if isFullTree(root):\n",
        "  print(\"Full binary tree\")\n",
        "else:\n",
        "  print(\"Not a full binary tree\")\n"
      ],
      "metadata": {
        "colab": {
          "base_uri": "https://localhost:8080/"
        },
        "id": "u48QhXCged2N",
        "outputId": "b24ecbd9-004f-4bd6-d0c0-17d28091b15b"
      },
      "execution_count": 40,
      "outputs": [
        {
          "output_type": "stream",
          "name": "stdout",
          "text": [
            "Not a full binary tree\n"
          ]
        }
      ]
    },
    {
      "cell_type": "code",
      "source": [
        "class Node:\n",
        "  def __init__(self, elem):\n",
        "    self.elem = elem\n",
        "    self.left = self.right = None\n",
        "root = Node(1)\n",
        "root.left = Node(2)\n",
        "root.right = Node(3)\n",
        "root.left.left = Node(4)\n",
        "root.left.right = Node(5)\n",
        "# Calculate the depth\n",
        "def calculateDepth (node) :\n",
        "  d=0\n",
        "  while (node is not None):\n",
        "    d += 1\n",
        "    node= node. left\n",
        "  return d\n",
        "# Check if the tree is a perfect binary tree\n",
        "def is_perfect(root, d, level=0):\n",
        "  if (root is None):# Check if the tree is empty\n",
        "    return True\n",
        "  if (root.left is None and root.right is None):\n",
        "    return (d == level + 1)\n",
        "  if (root.left is None or root.right is None):\n",
        "    return False\n",
        "  return (is_perfect(root.left, d, level + 1)\n",
        "  and is_perfect (root.right, d, level + 1))\n",
        "\n",
        "if (is_perfect(root, calculateDepth (root))):\n",
        "  print (\"Perfect binary tree\")\n",
        "else:\n",
        "  print (\"Not a perfect binary tree\")\n"
      ],
      "metadata": {
        "colab": {
          "base_uri": "https://localhost:8080/"
        },
        "id": "SFogqt5jedut",
        "outputId": "318f7471-4b06-4b07-c355-0ed8023efa76"
      },
      "execution_count": 41,
      "outputs": [
        {
          "output_type": "stream",
          "name": "stdout",
          "text": [
            "Not a perfect binary tree\n"
          ]
        }
      ]
    },
    {
      "cell_type": "code",
      "source": [
        "#Creating a BST/Inserting in a BST\n",
        "class Node:\n",
        "  def __init__(self, elem):\n",
        "    self.elem = elem\n",
        "    self.left = self.right = None\n",
        "def addNode (root, i): #Adding Nodes\n",
        "  if i<root.elem and root.left==None:\n",
        "    n= Node(i)\n",
        "    root.left= n\n",
        "  elif i>root.elem and root.right==None:\n",
        "    n= Node(i)\n",
        "    root.right= n\n",
        "  if i<root.elem and root.left!=None:\n",
        "    addNode (root.left, i)\n",
        "  elif i>root.elem and root.right!=None:\n",
        "    addNode (root.right, i)\n",
        "def in_order(n): #To check the BST\n",
        "  if n!=None:\n",
        "    in_order(n.left)\n",
        "    print(n.elem, end=\"--> \")\n",
        "    in_order(n.right)\n",
        "#Driver Code\n",
        "l1=[70, 50, 40, 90, 20, 60, 20, 95, 99, 80, 85, 75]\n",
        "root = Node(l1[0])\n",
        "for i in l1[1:]:\n",
        "  addNode (root, i)\n",
        "in_order(root)\n",
        "print()\n",
        "addNode(root, 55)\n",
        "in_order(root)\n",
        "\n"
      ],
      "metadata": {
        "colab": {
          "base_uri": "https://localhost:8080/"
        },
        "id": "yPRc4PY2edh3",
        "outputId": "b87f952f-695b-4909-8d23-6e4c54415166"
      },
      "execution_count": 42,
      "outputs": [
        {
          "output_type": "stream",
          "name": "stdout",
          "text": [
            "20--> 40--> 50--> 60--> 70--> 75--> 80--> 85--> 90--> 95--> 99--> \n",
            "20--> 40--> 50--> 55--> 60--> 70--> 75--> 80--> 85--> 90--> 95--> 99--> "
          ]
        }
      ]
    },
    {
      "cell_type": "code",
      "source": [
        "def search(vertex,val):\n",
        "    if vertex==None:\n",
        "      return False\n",
        "    elif vertex.elem==val:\n",
        "      return True\n",
        "    elif val<vertex.elem:\n",
        "      search(vertex.left,val)\n",
        "    elif val>vertex.elem:\n",
        "      search(vertex.right,val)\n",
        "x=search(root,70)\n",
        "if x==None:\n",
        "  print(\"Not found\")\n",
        "else:\n",
        "  print(\"Found\")\n"
      ],
      "metadata": {
        "colab": {
          "base_uri": "https://localhost:8080/"
        },
        "id": "-4o1QeeMe3ze",
        "outputId": "afbada65-ff2a-408c-e58f-613258cf4803"
      },
      "execution_count": 43,
      "outputs": [
        {
          "output_type": "stream",
          "name": "stdout",
          "text": [
            "Found\n"
          ]
        }
      ]
    },
    {
      "cell_type": "code",
      "source": [
        "def pree_order(vertex):\n",
        "    if vertex!=None:\n",
        "      print(vertex.elem,\" \", end=\"\")\n",
        "      pree_order(vertex.left)\n",
        "      pree_order(vertex.right)\n",
        "def in_order(vertex):\n",
        "    if vertex!=None:\n",
        "      in_order(vertex.left)\n",
        "      print(vertex.elem,\" \", end=\"\")\n",
        "      in_order(vertex.right)\n",
        "def post_order(vertex):\n",
        "    if vertex!=None:\n",
        "      post_order(vertex.left)\n",
        "      post_order(vertex.right)\n",
        "      print(vertex.elem,\" \", end=\"\")\n",
        "print(\"Pre Ordered: \", end=\"\")\n",
        "pree_order(root)\n",
        "print(\"\\n\")\n",
        "print(\"In Ordered: \", end=\"\")\n",
        "in_order(root)\n",
        "print(\"\\n\")\n",
        "print(\"Post Ordered: \", end=\"\")\n",
        "post_order(root)\n"
      ],
      "metadata": {
        "colab": {
          "base_uri": "https://localhost:8080/"
        },
        "id": "4mVqX73Fe7Fa",
        "outputId": "5806e284-cb0f-498d-9750-f4997c8194c4"
      },
      "execution_count": 44,
      "outputs": [
        {
          "output_type": "stream",
          "name": "stdout",
          "text": [
            "Pre Ordered: 70  50  40  20  60  55  90  80  75  85  95  99  \n",
            "\n",
            "In Ordered: 20  40  50  55  60  70  75  80  85  90  95  99  \n",
            "\n",
            "Post Ordered: 20  40  55  60  50  75  85  80  99  95  90  70  "
          ]
        }
      ]
    },
    {
      "cell_type": "code",
      "source": [
        "# Removing a Node\n",
        "def minValueNode(node):\n",
        "  current = node\n",
        "  while(current.left is not None): # loop down to find the leftmost leaf\n",
        "    current = current.left\n",
        "  return current\n",
        "# Given a binary search tree and a key, this function\n",
        "# delete the key and returns the new root\n",
        "def deleteNode (root, key):\n",
        "  if root is None:\n",
        "    return root\n",
        "  # If the key to be deleted is smaller than the root's key then it lies in lett subtree\n",
        "  if key < root.elem:\n",
        "    root.left=deleteNode(root.left,key)\n",
        "  # If the kve to be delete is greater than the root's key then it lies in right subtree\n",
        "  elif(key> root.elem):\n",
        "    root.right = deleteNode (root.right, key)\n",
        "  # If key is same as root's key, then this is the node to be deleted\n",
        "  else:\n",
        "  # Node with only one child or no child\n",
        "    if root. left is None:\n",
        "      temp = root.right\n",
        "      root = None\n",
        "      return temp\n",
        "    elif root.right is None:\n",
        "      temp = root.left\n",
        "      root = None\n",
        "      return temp\n",
        "  # Node with two children:\n",
        "  # Get the inorder successor (smallest in the right subtree)\n",
        "    temp=minValueNode(root.right)\n",
        "  # Copy the inorder successor's content to this node\n",
        "    root.key = temp.elem\n",
        "    root. right = deleteNode (root.right, temp.elem) # Delete the inorder successor\n",
        "  return root\n",
        "print (\"Inorder traversal of the given tree\")\n",
        "in_order (root)\n",
        "print (\"InDelete 20\")\n",
        "root= deleteNode (root, 20)\n",
        "print (\"Inorder traversal of the modified tree\")\n",
        "in_order (root)\n",
        "print (\"InDelete 100\")\n",
        "root = deleteNode(root, 100)\n",
        "print (\"Inorder traversal of the modified tree\")\n",
        "in_order(root)\n",
        "print (\"InDelete 70\")\n",
        "root = deleteNode (root, 70)\n",
        "print (\"Inorder traversal of the modified tree\")\n",
        "in_order (root)\n"
      ],
      "metadata": {
        "colab": {
          "base_uri": "https://localhost:8080/"
        },
        "id": "X-eJrKY7e-Fh",
        "outputId": "2921f0a5-af1c-4e46-8f6e-793cef04c6c3"
      },
      "execution_count": 45,
      "outputs": [
        {
          "output_type": "stream",
          "name": "stdout",
          "text": [
            "Inorder traversal of the given tree\n",
            "20  40  50  55  60  70  75  80  85  90  95  99  InDelete 20\n",
            "Inorder traversal of the modified tree\n",
            "40  50  55  60  70  75  80  85  90  95  99  InDelete 100\n",
            "Inorder traversal of the modified tree\n",
            "40  50  55  60  70  75  80  85  90  95  99  InDelete 70\n",
            "Inorder traversal of the modified tree\n",
            "40  50  55  60  70  80  85  90  95  99  "
          ]
        }
      ]
    },
    {
      "cell_type": "code",
      "source": [
        "def pushTreeNodes (root, arr):\n",
        "  if root is None:\n",
        "    return\n",
        "  pushTreeNodes (root.left, arr)\n",
        "  arr.append(root)\n",
        "  pushTreeNodes (root.right, arr)\n",
        "# Recursive function to construct a height-balanced B\n",
        "# given nodes in sorted order\n",
        "def buildBalancedBST (arr, start, end) :\n",
        "  if start>end:\n",
        "    return None\n",
        "  mid = (start + end) // 2 # find the middle index\n",
        "  root = arr[mid] # The root node will be a node pr\n",
        "  # recursively construct left and right subtree\n",
        "  root.left= buildBalancedBST(arr, start, mid- 1)\n",
        "  root.right = buildBalancedBST(arr, mid + 1, end)\n",
        "  return root\n",
        "def pre_order(n): #preorder traversal\n",
        "  if n!=None:\n",
        "    print (n.elem, end=\"--> \")\n",
        "    pre_order(n.left)\n",
        "    pre_order(n.right)\n",
        "print(f\"Unbalance State Pre-Order:\")\n",
        "pre_order(root) #preorder traversal\n",
        "arr = []\n",
        "pushTreeNodes (root, arr)\n",
        "newRoot= buildBalancedBST(arr, 0, len(arr) - 1)\n",
        "print(f\" \\nBalanced State Pre-Order:\")\n",
        "pre_order(newRoot)\n"
      ],
      "metadata": {
        "id": "-bGGFyHffDKY",
        "outputId": "8c0ecea5-39b9-4729-c3fd-d2146b1abd87",
        "colab": {
          "base_uri": "https://localhost:8080/"
        }
      },
      "execution_count": 46,
      "outputs": [
        {
          "output_type": "stream",
          "name": "stdout",
          "text": [
            "Unbalance State Pre-Order:\n",
            "70--> 50--> 40--> 60--> 55--> 90--> 80--> 85--> 95--> 99-->  \n",
            "Balanced State Pre-Order:\n",
            "70--> 50--> 40--> 55--> 60--> 90--> 80--> 85--> 95--> 99--> "
          ]
        }
      ]
    }
  ]
}